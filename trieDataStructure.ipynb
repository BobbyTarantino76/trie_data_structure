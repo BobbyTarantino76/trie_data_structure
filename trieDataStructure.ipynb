{
  "nbformat": 4,
  "nbformat_minor": 0,
  "metadata": {
    "colab": {
      "provenance": []
    },
    "kernelspec": {
      "name": "python3",
      "display_name": "Python 3"
    },
    "language_info": {
      "name": "python"
    }
  },
  "cells": [
    {
      "cell_type": "code",
      "source": [
        "import json, os, random, time, urllib.request\n",
        "from typing import Dict, List, Tuple\n",
        "\n",
        "import psutil\n",
        "import matplotlib.pyplot as plt\n",
        "\n",
        "urlPodaci = (\n",
        "    \"https://raw.githubusercontent.com/dwyl/english-words/\"\n",
        "    \"master/words_dictionary.json\"\n",
        ")\n",
        "datotekaPodaci = \"words_dictionary.json\""
      ],
      "metadata": {
        "id": "JqiZjoDpP6jO"
      },
      "execution_count": 14,
      "outputs": []
    },
    {
      "cell_type": "code",
      "source": [
        "def preuzmiSkupAkoNedostaje() -> None:\n",
        "    if os.path.exists(datotekaPodaci):\n",
        "        return\n",
        "    print(\"Preuzimanje skupa podataka…\")\n",
        "    urllib.request.urlretrieve(urlPodaci, datotekaPodaci)\n",
        "    print(\"Preuzeto.\")\n",
        "\n",
        "preuzmiSkupAkoNedostaje()"
      ],
      "metadata": {
        "id": "gSBxJfkJP9jR"
      },
      "execution_count": 15,
      "outputs": []
    },
    {
      "cell_type": "code",
      "source": [
        "class TrieCvor:\n",
        "    __slots__ = (\"djeca\", \"jeKraj\")\n",
        "\n",
        "    def __init__(self):\n",
        "        self.djeca: Dict[str, \"TrieCvor\"] = {}\n",
        "        self.jeKraj: bool = False\n",
        "\n",
        "class Trie:\n",
        "    __slots__ = (\"korijen\",)\n",
        "\n",
        "    def __init__(self):\n",
        "        self.korijen = TrieCvor()\n",
        "\n",
        "    def ubaci(self, rijec: str) -> None:\n",
        "        cvor = self.korijen\n",
        "        for znak in rijec:\n",
        "            cvor = cvor.djeca.setdefault(znak, TrieCvor())\n",
        "        cvor.jeKraj = True\n",
        "\n",
        "    def sadrzi(self, rijec: str) -> bool:\n",
        "        cvor = self.korijen\n",
        "        for znak in rijec:\n",
        "            cvor = cvor.djeca.get(znak)\n",
        "            if cvor is None:\n",
        "                return False\n",
        "        return cvor.jeKraj"
      ],
      "metadata": {
        "id": "cKDpCDcsQAYw"
      },
      "execution_count": 16,
      "outputs": []
    },
    {
      "cell_type": "code",
      "source": [
        "proces = psutil.Process(os.getpid())\n",
        "\n",
        "def memorijaMb() -> float:\n",
        "    return proces.memory_info().rss / 1024 / 1024\n",
        "\n",
        "\n",
        "def izgradiTrie(rijeci: List[str]) -> Trie:\n",
        "    trieStablo = Trie()\n",
        "    for r in rijeci:\n",
        "        trieStablo.ubaci(r)\n",
        "    return trieStablo\n",
        "\n",
        "\n",
        "def mjeriIzgradnju(naziv: str, graditelj) -> Tuple[object, float]:\n",
        "    memPrije = memorijaMb()\n",
        "    start = time.perf_counter()\n",
        "    objekat = graditelj()\n",
        "    vrijeme = time.perf_counter() - start\n",
        "    deltMem = memorijaMb() - memPrije\n",
        "    print(f\"{naziv:<9} | izgradnja {vrijeme:6.3f} s | +{deltMem:7.1f} MB\")\n",
        "    return objekat, vrijeme\n",
        "\n",
        "\n",
        "def mjeriUpite(naziv: str, func, uzorci: List[str]) -> float:\n",
        "    start = time.perf_counter()\n",
        "    for r in uzorci:\n",
        "        func(r)\n",
        "    ukupno = time.perf_counter() - start\n",
        "    print(f\"{naziv:<9} | 1k upita {ukupno:6.3f} s | prosjek {(ukupno/len(uzorci))*1e6:8.2f} ms\")\n",
        "    return ukupno"
      ],
      "metadata": {
        "id": "cobbzqnhQDku"
      },
      "execution_count": 20,
      "outputs": []
    },
    {
      "cell_type": "code",
      "source": [
        "print(\"Učitavam riječi…\")\n",
        "with open(datotekaPodaci, \"r\", encoding=\"utf-8\") as fajl:\n",
        "    rijeci = list(json.load(fajl).keys())\n",
        "print(f\"Ukupno riječi: {len(rijeci):,}\")\n",
        "\n",
        "random.seed(0)\n",
        "uzorci = random.sample(rijeci, 1_000)\n",
        "\n",
        "trieStablo, vrijemeTrieIzgradnja = mjeriIzgradnju(\"Trie\", lambda: izgradiTrie(rijeci))\n",
        "hashSkup, vrijemeSetIzgradnja = mjeriIzgradnju(\"HashSkup\", lambda: set(rijeci))\n",
        "listaRijeci, vrijemeListaIzgradnja = mjeriIzgradnju(\"Lista\", lambda: list(rijeci))\n",
        "\n",
        "print(\"\\nMjerenje upita…\")\n",
        "vrijemeTrieUpiti = mjeriUpite(\"Trie\", trieStablo.sadrzi, uzorci)\n",
        "vrijemeSetUpiti = mjeriUpite(\"HashSkup\", lambda r: r in hashSkup, uzorci)\n",
        "vrijemeListaUpiti = mjeriUpite(\"Lista\", lambda r: r in listaRijeci, uzorci)\n"
      ],
      "metadata": {
        "colab": {
          "base_uri": "https://localhost:8080/"
        },
        "id": "0dL_bfQ6QGcB",
        "outputId": "9394225f-0824-4195-c0b0-2d716ce0cedd"
      },
      "execution_count": 21,
      "outputs": [
        {
          "output_type": "stream",
          "name": "stdout",
          "text": [
            "Učitavam riječi…\n",
            "Ukupno riječi: 370,100\n",
            "Trie      | izgradnja  3.064 s | +  170.9 MB\n",
            "HashSkup  | izgradnja  0.035 s | +    0.0 MB\n",
            "Lista     | izgradnja  0.003 s | +    0.0 MB\n",
            "\n",
            "Mjerenje upita…\n",
            "Trie      | 1k upita  0.004 s | prosjek     3.85 ms\n",
            "HashSkup  | 1k upita  0.001 s | prosjek     0.50 ms\n",
            "Lista     | 1k upita  3.449 s | prosjek  3448.80 ms\n"
          ]
        }
      ]
    },
    {
      "cell_type": "code",
      "source": [
        "strukture = [\"Trie\", \"HashSkup\", \"Lista\"]\n",
        "\n",
        "plt.figure(figsize=(6, 4))\n",
        "plt.bar(strukture,\n",
        "        [vrijemeTrieIzgradnja, vrijemeSetIzgradnja, vrijemeListaIzgradnja])\n",
        "plt.ylabel(\"Sekunde (log)\")\n",
        "plt.title(\"Vrijeme izgradnje struktura (370 k riječi)\")\n",
        "plt.yscale(\"log\")\n",
        "\n",
        "plt.figure(figsize=(6, 4))\n",
        "plt.bar(strukture,\n",
        "        [vrijemeTrieUpiti, vrijemeSetUpiti, vrijemeListaUpiti])\n",
        "plt.ylabel(\"Sekunde (log)\")\n",
        "plt.title(\"Vrijeme izvršavanja 1 000 upita\")\n",
        "plt.yscale(\"log\")\n",
        "plt.show()"
      ],
      "metadata": {
        "colab": {
          "base_uri": "https://localhost:8080/",
          "height": 765
        },
        "id": "NicSY7iFQI6w",
        "outputId": "bffc405c-8096-486b-ca86-ea8724c3b427"
      },
      "execution_count": 19,
      "outputs": [
        {
          "output_type": "display_data",
          "data": {
            "text/plain": [
              "<Figure size 600x400 with 1 Axes>"
            ],
            "image/png": "[encoded data removed]"
          },
          "metadata": {}
        },
        {
          "output_type": "display_data",
          "data": {
            "text/plain": [
              "<Figure size 600x400 with 1 Axes>"
            ],
            "image/png": "[encoded data removed]"
          },
          "metadata": {}
        }
      ]
    },
    {
      "cell_type": "code",
      "source": [
        "!pip install -q psutil matplotlib\n",
        "\n",
        "import json\n",
        "import os\n",
        "import time\n",
        "import urllib.request\n",
        "from typing import Dict, List\n",
        "\n",
        "import matplotlib.pyplot as plt\n",
        "import psutil\n",
        "\n",
        "url_podaci = (\n",
        "    \"https://raw.githubusercontent.com/dwyl/english-words/\"\n",
        "    \"master/words_dictionary.json\"\n",
        ")\n",
        "ime_fajla = \"words_dictionary.json\"\n",
        "prefiks_test = \"auto\"\n",
        "ponavljanja = 3\n",
        "\n",
        "proces = psutil.Process(os.getpid())\n",
        "\n",
        "\n",
        "def rss_mb() -> float:\n",
        "    \"\"\"Vrati RSS procesa u MB.\"\"\"\n",
        "    return proces.memory_info().rss / 1024 / 1024\n",
        "\n",
        "\n",
        "class TrieCvor:\n",
        "    __slots__ = (\"djeca\", \"je_kraj\")\n",
        "\n",
        "    def __init__(self):\n",
        "        self.djeca: Dict[str, \"TrieCvor\"] = {}\n",
        "        self.je_kraj: bool = False\n",
        "\n",
        "\n",
        "class Trie:\n",
        "    def __init__(self):\n",
        "        self.korijen = TrieCvor()\n",
        "\n",
        "    def ubaci(self, rijec: str) -> None:\n",
        "        cvor = self.korijen\n",
        "        for znak in rijec:\n",
        "            cvor = cvor.djeca.setdefault(znak, TrieCvor())\n",
        "        cvor.je_kraj = True\n",
        "\n",
        "    def broj_prefiks(self, prefiks: str) -> int:\n",
        "        cvor = self.korijen\n",
        "        for znak in prefiks:\n",
        "            cvor = cvor.djeca.get(znak)\n",
        "            if cvor is None:\n",
        "                return 0\n",
        "        return self._brojanje(cvor)\n",
        "\n",
        "    def _brojanje(self, cvor: \"TrieCvor\") -> int:\n",
        "        brojac = 1 if cvor.je_kraj else 0\n",
        "        for dijete in cvor.djeca.values():\n",
        "            brojac += self._brojanje(dijete)\n",
        "        return brojac\n",
        "\n",
        "\n",
        "if not os.path.exists(ime_fajla):\n",
        "    print(\"Preuzimanje words_dictionary.json…\")\n",
        "    urllib.request.urlretrieve(url_podaci, ime_fajla)\n",
        "\n",
        "print(\"Učitavam riječi…\")\n",
        "with open(ime_fajla, \"r\", encoding=\"utf-8\") as f:\n",
        "    rijeci: List[str] = list(json.load(f).keys())\n",
        "print(f\"Ukupno riječi: {len(rijeci):,}\")\n",
        "\n",
        "\n",
        "rez_mem: Dict[str, float] = {}\n",
        "\n",
        "# Lista\n",
        "mem0 = rss_mb()\n",
        "lista_rijeci = rijeci\n",
        "rez_mem[\"Lista\"] = rss_mb() - mem0\n",
        "\n",
        "# Hash skup\n",
        "mem0 = rss_mb()\n",
        "hash_skup = set(rijeci)\n",
        "rez_mem[\"HashSkup\"] = rss_mb() - mem0\n",
        "\n",
        "# Trie\n",
        "mem0 = rss_mb()\n",
        "trie_stablo = Trie()\n",
        "for w in rijeci:\n",
        "    trie_stablo.ubaci(w)\n",
        "rez_mem[\"Trie\"] = rss_mb() - mem0\n",
        "\n",
        "\n",
        "\n",
        "def pretraga_lista(pref: str) -> int:\n",
        "    return sum(1 for w in lista_rijeci if w.startswith(pref))\n",
        "\n",
        "\n",
        "def pretraga_set(pref: str) -> int:\n",
        "    return sum(1 for w in hash_skup if w.startswith(pref))\n",
        "\n",
        "\n",
        "def pretraga_trie(pref: str) -> int:\n",
        "    return trie_stablo.broj_prefiks(pref)\n",
        "\n",
        "funkcije = {\n",
        "    \"Lista\": pretraga_lista,\n",
        "    \"HashSkup\": pretraga_set,\n",
        "    \"Trie\": pretraga_trie,\n",
        "}\n",
        "\n",
        "\n",
        "rez_vrijeme: Dict[str, float] = {}\n",
        "rez_broj: Dict[str, int] = {}\n",
        "\n",
        "for naziv, fn in funkcije.items():\n",
        "    total = 0.0\n",
        "    for _ in range(ponavljanja):\n",
        "        t0 = time.perf_counter()\n",
        "        k = fn(prefiks_test)\n",
        "        total += time.perf_counter() - t0\n",
        "    rez_vrijeme[naziv] = (total / ponavljanja) * 1e6  # µs\n",
        "    rez_broj[naziv] = k\n",
        "\n",
        "print(f\"\\n=== Prefiks '{prefiks_test}' ===\")\n",
        "for naziv in funkcije:\n",
        "    print(f\"{naziv:<10}: {rez_vrijeme[naziv]:9.2f} µs | pronađeno = {rez_broj[naziv]}\")\n",
        "\n",
        "print(\"\\n=== Zauzeće memorije (MB) ===\")\n",
        "for naziv, mb in rez_mem.items():\n",
        "    print(f\"{naziv:<10}: {mb:7.1f} MB\")\n",
        "\n",
        "plt.figure(figsize=(5, 4))\n",
        "plt.bar(rez_vrijeme.keys(), rez_vrijeme.values())\n",
        "plt.yscale(\"log\")\n",
        "plt.ylabel(\"µs (log)\")\n",
        "plt.title(f\"Prefiks '{prefiks_test}' – minimalno vrijeme pretrage\")\n",
        "plt.show()\n"
      ],
      "metadata": {
        "colab": {
          "base_uri": "https://localhost:8080/",
          "height": 595
        },
        "id": "GmMbeV0nNY2B",
        "outputId": "37162a24-3c92-43b4-ca4a-04aa856e595d"
      },
      "execution_count": 22,
      "outputs": [
        {
          "output_type": "stream",
          "name": "stdout",
          "text": [
            "Učitavam riječi…\n",
            "Ukupno riječi: 370,100\n",
            "\n",
            "=== Prefiks 'auto' ===\n",
            "Lista     :  38781.84 µs | pronađeno = 641\n",
            "HashSkup  : 149451.89 µs | pronađeno = 641\n",
            "Trie      :   1485.51 µs | pronađeno = 641\n",
            "\n",
            "=== Zauzeće memorije (MB) ===\n",
            "Lista     :     0.0 MB\n",
            "HashSkup  :    15.7 MB\n",
            "Trie      :   -23.1 MB\n"
          ]
        },
        {
          "output_type": "display_data",
          "data": {
            "text/plain": [
              "<Figure size 500x400 with 1 Axes>"
            ],
            "image/png": "[encoded data removed]"
          },
          "metadata": {}
        }
      ]
    }
  ]
}